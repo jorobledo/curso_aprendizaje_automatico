{
 "cells": [
  {
   "cell_type": "markdown",
   "metadata": {},
   "source": [
    "<center>\n",
    "\n",
    "# Entrega número 1\n",
    "# Exploración y clasificación sobre la base de datos del Titanic\n",
    "## (Entregar en la semana de septiembre)"
   ]
  },
  {
   "cell_type": "code",
   "execution_count": 1,
   "metadata": {},
   "outputs": [],
   "source": [
    "#Agreguen los imports que vayan a utilizar en este encabezado.\n",
    "import pandas as pd"
   ]
  },
  {
   "cell_type": "markdown",
   "metadata": {},
   "source": [
    "## Base de datos [Titanic](https://www.kaggle.com/c/titanic/data)\n",
    "\n",
    "En este práctico trabajaremos sobre la base de datos de los sobrevivientes del accidente del Titanic. Esta base de datos es abierta y encontrarán mucho trabajo ya hecho sobre la misma en internet. \n",
    "\n",
    "Los objetivos de este trabajo práctico son:\n",
    "\n",
    "- Familiarizarse con la manipulación de datos utilizando el paquete `Pandas`.\n",
    "\n",
    "- Familiarizarse con las herramientas gráficas en python, en particular `matplotlib` y `seaborn`.\n",
    "\n",
    "- Aprender a plantear un modelo de aprendizaje automático en python utilizando el paquete `scikit-learn` y `xgboost`. En particular, plantearán modelos de clasificación basados en árboles de decisión para predecir la supervivencia de un pasajero del titanic en función de las variables independientes del conjunto de datos.\n",
    "\n",
    "\n",
    "La base de datos que utilizarán cuenta con 9 variables independientes y una variable respuesta. Las variables son:\n",
    "\n",
    "- *survival* : 0 si no sobrevivió, 1 si sobrevivió (variable respuesta).\n",
    "\n",
    "- *pclass*: clase del ticket. 1 = primera clase, 2 = segunda clase, 3 = tercera clase.\n",
    "\n",
    "- *sex*: Sexo del pasajero. Male = Masculino, Female = Femenino.\n",
    "\n",
    "- *Age*: Edad en años del pasajero. \n",
    "\n",
    "- *sibsp*: Número de familiares (hermanos, pareja) en el Titanic\n",
    "\n",
    "- *parch*: Número de padres o hijos en el Titanic.\n",
    "\n",
    "- *ticket*: Número de ticket.\n",
    "\n",
    "- *fare*: El costo del pasaje.\n",
    "\n",
    "- *cabin*: El número de cabina.\n",
    "\n",
    "- *Embarked*: Puerto donde embarcó. C = Cherbourg, Q = Queenstown, S = Southampton\n"
   ]
  },
  {
   "cell_type": "code",
   "execution_count": 2,
   "metadata": {},
   "outputs": [
    {
     "data": {
      "text/html": [
       "<div>\n",
       "<style scoped>\n",
       "    .dataframe tbody tr th:only-of-type {\n",
       "        vertical-align: middle;\n",
       "    }\n",
       "\n",
       "    .dataframe tbody tr th {\n",
       "        vertical-align: top;\n",
       "    }\n",
       "\n",
       "    .dataframe thead th {\n",
       "        text-align: right;\n",
       "    }\n",
       "</style>\n",
       "<table border=\"1\" class=\"dataframe\">\n",
       "  <thead>\n",
       "    <tr style=\"text-align: right;\">\n",
       "      <th></th>\n",
       "      <th>PassengerId</th>\n",
       "      <th>Survived</th>\n",
       "      <th>Pclass</th>\n",
       "      <th>Name</th>\n",
       "      <th>Sex</th>\n",
       "      <th>Age</th>\n",
       "      <th>SibSp</th>\n",
       "      <th>Parch</th>\n",
       "      <th>Ticket</th>\n",
       "      <th>Fare</th>\n",
       "      <th>Cabin</th>\n",
       "      <th>Embarked</th>\n",
       "    </tr>\n",
       "  </thead>\n",
       "  <tbody>\n",
       "    <tr>\n",
       "      <th>0</th>\n",
       "      <td>1</td>\n",
       "      <td>0</td>\n",
       "      <td>3</td>\n",
       "      <td>Braund, Mr. Owen Harris</td>\n",
       "      <td>male</td>\n",
       "      <td>22.0</td>\n",
       "      <td>1</td>\n",
       "      <td>0</td>\n",
       "      <td>A/5 21171</td>\n",
       "      <td>7.2500</td>\n",
       "      <td>NaN</td>\n",
       "      <td>S</td>\n",
       "    </tr>\n",
       "    <tr>\n",
       "      <th>1</th>\n",
       "      <td>2</td>\n",
       "      <td>1</td>\n",
       "      <td>1</td>\n",
       "      <td>Cumings, Mrs. John Bradley (Florence Briggs Th...</td>\n",
       "      <td>female</td>\n",
       "      <td>38.0</td>\n",
       "      <td>1</td>\n",
       "      <td>0</td>\n",
       "      <td>PC 17599</td>\n",
       "      <td>71.2833</td>\n",
       "      <td>C85</td>\n",
       "      <td>C</td>\n",
       "    </tr>\n",
       "    <tr>\n",
       "      <th>2</th>\n",
       "      <td>3</td>\n",
       "      <td>1</td>\n",
       "      <td>3</td>\n",
       "      <td>Heikkinen, Miss. Laina</td>\n",
       "      <td>female</td>\n",
       "      <td>26.0</td>\n",
       "      <td>0</td>\n",
       "      <td>0</td>\n",
       "      <td>STON/O2. 3101282</td>\n",
       "      <td>7.9250</td>\n",
       "      <td>NaN</td>\n",
       "      <td>S</td>\n",
       "    </tr>\n",
       "    <tr>\n",
       "      <th>3</th>\n",
       "      <td>4</td>\n",
       "      <td>1</td>\n",
       "      <td>1</td>\n",
       "      <td>Futrelle, Mrs. Jacques Heath (Lily May Peel)</td>\n",
       "      <td>female</td>\n",
       "      <td>35.0</td>\n",
       "      <td>1</td>\n",
       "      <td>0</td>\n",
       "      <td>113803</td>\n",
       "      <td>53.1000</td>\n",
       "      <td>C123</td>\n",
       "      <td>S</td>\n",
       "    </tr>\n",
       "    <tr>\n",
       "      <th>4</th>\n",
       "      <td>5</td>\n",
       "      <td>0</td>\n",
       "      <td>3</td>\n",
       "      <td>Allen, Mr. William Henry</td>\n",
       "      <td>male</td>\n",
       "      <td>35.0</td>\n",
       "      <td>0</td>\n",
       "      <td>0</td>\n",
       "      <td>373450</td>\n",
       "      <td>8.0500</td>\n",
       "      <td>NaN</td>\n",
       "      <td>S</td>\n",
       "    </tr>\n",
       "  </tbody>\n",
       "</table>\n",
       "</div>"
      ],
      "text/plain": [
       "   PassengerId  Survived  Pclass  \\\n",
       "0            1         0       3   \n",
       "1            2         1       1   \n",
       "2            3         1       3   \n",
       "3            4         1       1   \n",
       "4            5         0       3   \n",
       "\n",
       "                                                Name     Sex   Age  SibSp  \\\n",
       "0                            Braund, Mr. Owen Harris    male  22.0      1   \n",
       "1  Cumings, Mrs. John Bradley (Florence Briggs Th...  female  38.0      1   \n",
       "2                             Heikkinen, Miss. Laina  female  26.0      0   \n",
       "3       Futrelle, Mrs. Jacques Heath (Lily May Peel)  female  35.0      1   \n",
       "4                           Allen, Mr. William Henry    male  35.0      0   \n",
       "\n",
       "   Parch            Ticket     Fare Cabin Embarked  \n",
       "0      0         A/5 21171   7.2500   NaN        S  \n",
       "1      0          PC 17599  71.2833   C85        C  \n",
       "2      0  STON/O2. 3101282   7.9250   NaN        S  \n",
       "3      0            113803  53.1000  C123        S  \n",
       "4      0            373450   8.0500   NaN        S  "
      ]
     },
     "execution_count": 2,
     "metadata": {},
     "output_type": "execute_result"
    }
   ],
   "source": [
    "train_data = pd.read_csv('datos/train.csv')\n",
    "test_data = pd.read_csv('datos/test.csv')\n",
    "train_data.head()"
   ]
  },
  {
   "cell_type": "markdown",
   "metadata": {},
   "source": [
    "## 1.) Realizar análisis exploratorio básico"
   ]
  },
  {
   "cell_type": "markdown",
   "metadata": {},
   "source": [
    "a.) Utilizando el método [`groupby()`](https://pandas.pydata.org/pandas-docs/stable/reference/api/pandas.DataFrame.groupby.html) y el método [`mean()`](https://pandas.pydata.org/docs/reference/api/pandas.DataFrame.mean.html) de los pandas dataframes, obtener la edad media de cada sexo. Realizar un gráfico de barras que muestre la edad media según el sexo."
   ]
  },
  {
   "cell_type": "code",
   "execution_count": null,
   "metadata": {},
   "outputs": [],
   "source": []
  },
  {
   "cell_type": "markdown",
   "metadata": {},
   "source": [
    "b.) Usando el método [`countplot()`](https://seaborn.pydata.org/generated/seaborn.countplot.html) del paquete seaborn, realizar un gráfico de barra de la supervivencia en función del sexo. Además, realice un gráfico de barra de la supervivencia en función de la clase del ticket (variable `pclass`). \n",
    "\n",
    "Opcional: Poner ambos gráficos uno al lado del otro, utilizando el método [`plt.subplot()`](https://matplotlib.org/stable/api/_as_gen/matplotlib.pyplot.subplot.html)del módulo pyplot de matplotlib. "
   ]
  },
  {
   "cell_type": "code",
   "execution_count": null,
   "metadata": {},
   "outputs": [],
   "source": []
  },
  {
   "cell_type": "markdown",
   "metadata": {},
   "source": [
    "c.) Realice dos gráficos de torta, uno contemplando sólo los datos de los pasajeros que murieron y otro sólo los datos de los que sobrevivieron, en donde se vea en cada porción la cantidad de padres o hijos (variable `Parch`) de cada subconjunto de datos. Si puede, incluyalo dentro de una misma figura.\n",
    "\n",
    "Para agrupar los datos según la supervivencia, recordar de usar `groupby()` de pandas. Los gráficos de torta se pueden hacer con `plt.pie()` de matplotlib o con cualquier otro paquete que desee. Para contar cuántos casos hay de cada valor de una variable, recordar usar el método `value_counts()` de los pandas dataframe. \n",
    "\n",
    "Si este inciso resulta muy complejo, no preocuparse. Lo discutimos la clase que viene.\n",
    "\n",
    "opcional: hacer lo mismo con la variable `SibSp` en vez de `Parch`."
   ]
  },
  {
   "cell_type": "code",
   "execution_count": null,
   "metadata": {},
   "outputs": [],
   "source": []
  },
  {
   "cell_type": "markdown",
   "metadata": {},
   "source": [
    "## 2.) Entrenar Random Forest\n",
    "Con un análisis exploratorio rápido como el que hicimos, vemos que parece haber relación entre las variables *Sex*, *Pclass*, *SibSp*, *Parch* y la variable respuesta. Por lo tanto, utilizaremos sólo estas para entrenar nuestro modelo de clasificación (Se debería hacer un análisis exhaustivo de cada variable, ver datos faltantes, modificar niveles de factores de ser necesario, generar variables dummies, etc. Para simplificar el problema, sólo utilizaremos estas cuatro variables propuestas)."
   ]
  },
  {
   "cell_type": "markdown",
   "metadata": {},
   "source": [
    "a.) Utilzando `RandomForestClassifier` de `sklearn.ensemble`, entrenar un modelo Random Forest con el conjunto de datos de entrenamiento `train_data`.\n"
   ]
  },
  {
   "cell_type": "code",
   "execution_count": null,
   "metadata": {},
   "outputs": [],
   "source": []
  },
  {
   "cell_type": "markdown",
   "metadata": {},
   "source": [
    "\n",
    "b.) Evaluar la capacidad predictiva del modelo utilizando el conjunto de datos de entrenamiento `train_data` (ya que el de prueba no cuenta con la variable respuesta. Lo correcto es evaluar en la base de datos de prueba y hacer validación cruzada. De nuevo, estamos simplificando. Ya vamos a entrar de lleno con la metodología). Recuerde que para evaluar la capacidad predictiva, usamos el método `accuracy_score` del módulo `metrics` de `sklearn` (ver *E3-AA2021-arboles.ipynb*).\n"
   ]
  },
  {
   "cell_type": "code",
   "execution_count": null,
   "metadata": {},
   "outputs": [],
   "source": []
  },
  {
   "cell_type": "markdown",
   "metadata": {},
   "source": [
    "\n",
    "c.) Predecir la supervivencia en los datos de prueba (`test_data`). Guardar estos resultados para comparar con en siguiente inciso.\n"
   ]
  },
  {
   "cell_type": "code",
   "execution_count": null,
   "metadata": {},
   "outputs": [],
   "source": []
  },
  {
   "cell_type": "markdown",
   "metadata": {},
   "source": [
    "\n",
    "d.) Analizar el peso de las variables utilizadas en el modelo entrenado (método `feature_importances_` del modelo entrenado). Interpretar este resultado."
   ]
  },
  {
   "cell_type": "code",
   "execution_count": null,
   "metadata": {},
   "outputs": [],
   "source": []
  },
  {
   "cell_type": "markdown",
   "metadata": {},
   "source": [
    "## 3.) Entrenar XGBoost\n",
    "\n",
    "Repita el ejercicio 2.) pero utilizando el método Extreme Gradient Boosting en vez de Random Forest. Compare la *accuracy* o exactitud de ambos métodos. Para este inciso, referirse a la última sección de *E3-AA2021_arboles.ipynb*.\n",
    "\n",
    "Compare las predicciones en el conjunto de prueba del modelo XGBoost con las predcciones del mismo conjunto del modelo RandomForest. ¿Son iguales? Puede realizar matrices de confusión para los datos de entrenamiento que tienen etiqueta.\n",
    "\n",
    "Analice e interprete brevemente los resultados obtenidos como le parezca adecuado."
   ]
  },
  {
   "cell_type": "code",
   "execution_count": null,
   "metadata": {},
   "outputs": [],
   "source": []
  },
  {
   "cell_type": "markdown",
   "metadata": {},
   "source": [
    "**Spoiler alert:** Sin tunear los parámetros de cada modelo (es decir, dejando los defaults), se espera que las accuracies sean similares. Tuneando los hiperparámetros se puede lograr hasta una diferencia de entre un 2% y 8% a favor de XGBoost. No es necesario ponerse a probar parámetros, con los defaults es suficiente. Sin embargo, si lo quieren hacer, prueben y dejen sus comentarios."
   ]
  },
  {
   "cell_type": "markdown",
   "metadata": {},
   "source": [
    "## **Feedback (Opcional):** Pueden dejar comentarios acerca de lo que les parece este práctico para modificarlo a futuro (si les parece muy difícil, muy fácil, aburrido, entretenido, no saben ni por donde empezar, les lleva mucho tiempo, etc.). Todo comentario es bienvenido y no forma parte de la evaluación."
   ]
  },
  {
   "cell_type": "markdown",
   "metadata": {},
   "source": []
  }
 ],
 "metadata": {
  "interpreter": {
   "hash": "8224f873e57c86ab65480717b16ff633bb8ea1d2368793f8955b692a9e5cb94d"
  },
  "kernelspec": {
   "display_name": "Python 3 (ipykernel)",
   "language": "python",
   "name": "python3"
  },
  "language_info": {
   "codemirror_mode": {
    "name": "ipython",
    "version": 3
   },
   "file_extension": ".py",
   "mimetype": "text/x-python",
   "name": "python",
   "nbconvert_exporter": "python",
   "pygments_lexer": "ipython3",
   "version": "3.7.10"
  }
 },
 "nbformat": 4,
 "nbformat_minor": 2
}
