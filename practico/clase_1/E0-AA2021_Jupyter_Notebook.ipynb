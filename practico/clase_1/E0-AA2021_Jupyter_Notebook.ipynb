{
 "cells": [
  {
   "cell_type": "markdown",
   "id": "facffbf0",
   "metadata": {},
   "source": [
    "<center>\n",
    "\n",
    "# Introducción al Machine Learning\n",
    "### Docente práctico: José I. Robledo"
   ]
  },
  {
   "cell_type": "markdown",
   "id": "32cb73f8",
   "metadata": {},
   "source": [
    "## Ejercicio 0. Introducción a Python: Jupyter Notebook\n",
    "\n",
    "Si estas leyendo esto significa que pudiste abrir correctamente esta instancia de Jupyter Notebook!\n",
    "\n",
    "Jupyter notebook es un espacio de trabajo diseñado especialmente para programar en Python. El formato de los archivos jupyter notebook es \".ipynb\".\n",
    "\n",
    "En jupyter notebook, se pueden generar celdas de código o de texto, las cuales pueden intercalarse. Las celdas de código pueden ser ejecutadas secuencialmente. Ante la primera ejecución de una celda, se iniciará un kernel que mantendrá posteriormente todos los objetos y ejecuciones en memoria. Una vez que el kernel sea desconectado o se cierre la notebook, será necesario volver a ejecutar todas las celdas para volver a correr el código.\n",
    "\n",
    "Un programa de python suele comenzar con la cabecera, en donde se explicitan los paquetes que se utilizarán en la notebook. Estos paquetes serán conjuntos de módulos, los cuáles podrán contener diversas clases con métodos y funciones. Será mediante estos paquetes que tendremos acceso a funciones ya programadas de gran utilidad.\n",
    "\n",
    "**IMPORTANTE**: El caracter de comentario en python es \"#\". Usenlo para ir comentando el código, o bien agreguen celdas markdown y escriban para complementar la notebook con sus anotaciones. \n"
   ]
  },
  {
   "cell_type": "markdown",
   "id": "5afbe767",
   "metadata": {},
   "source": [
    "## Cabecera: Paquetes y módulos\n",
    "\n",
    "Un módulo es un archivo con terminación `.py` que contiene clases o funciones de python. Los paquetes (conjunto de módulos) que utilizaremos en este tutorial son numpy y matplotlib. Para importar un paquete o módulo, debemos utilizar la palabra clave `import` seguida del nombre del paquete o módulo. Si queremos incluir un único módulo de un paquete, pofemos utilizar la sintáxis `from` {paquete} `import` {módulo} `as` {acrónimo}.  En python, para no tener que estar escribiendo todo el tiempo el nombre completo del paquete cada vez que lo queremos utilizar, se pueden definir acrónimos utilizando la palabra clave `as`. En el siguiente código, importaremos el módulo numpy como \"np\" y el módulo pyplot del paquete matplotlib como \"plt\". El caracter \".\" indica que pyplot es un módulo dentro de matplotlib.\n",
    "\n",
    "La celda se puede ejecutar de varias maneras: apretando el botón `Ejecutar celda`, apretando `ctrl+enter` (sin pasar a la siguiente celda) o apretando `shift+enter` (lo que ejecutará la celda y pasará directamente a la siguiente celda). "
   ]
  },
  {
   "cell_type": "code",
   "execution_count": 2,
   "id": "ab53dd5c",
   "metadata": {},
   "outputs": [],
   "source": [
    "import numpy as np\n",
    "import matplotlib.pyplot as plt\n",
    "from numpy import sin as seno"
   ]
  },
  {
   "cell_type": "markdown",
   "id": "91c9bc28",
   "metadata": {},
   "source": [
    "Una vez ejecutada la celda anterior tendremos acceso a los métodos o funciones de numpy y de pyplot. Numpy contiene un gran número de funciones que pueden explorarse en su documentación. Para acceder a la documentación, podemos ir a la página de numpy, o bien utilizar el caracter \"?\", de la siguiente manera:"
   ]
  },
  {
   "cell_type": "code",
   "execution_count": 3,
   "id": "509c23e5",
   "metadata": {},
   "outputs": [],
   "source": [
    "np?"
   ]
  },
  {
   "cell_type": "markdown",
   "id": "6dd0ec54",
   "metadata": {},
   "source": [
    "con el caracter \"?\" podremos explorar la documentación de cada objeto que hayamos instanciado."
   ]
  },
  {
   "cell_type": "code",
   "execution_count": 4,
   "id": "7e49bf01",
   "metadata": {},
   "outputs": [],
   "source": [
    "seno?"
   ]
  },
  {
   "cell_type": "markdown",
   "id": "ac303517",
   "metadata": {},
   "source": [
    "A pesar que se pueden importan módulos en cualquier parte de la notebook, se recomienda fuertemente que se declaren en la cabecera, al comienzo de la misma.\n",
    "\n",
    "\n",
    "Para acceder a los métodos dentro de un objeto se utiliza el caracter \".\". Por lo tanto, en la declaración `matplotlib.pyplot` estamos llamando únicamente al módulo pyplot del paquete matplotlib.\n"
   ]
  },
  {
   "cell_type": "markdown",
   "id": "3f4742d2",
   "metadata": {},
   "source": [
    "## Escribir código y acceder a ayudas\n",
    "\n",
    "Comencemos a programar en python! Ustedes ya tienen experiencia en programar en R, con lo cual comenzaremos a programar salteando varias cuestiones. Utilizaremos siempre el símbolo \"=\" en vez de \"<-\" para instanciar una variable, función, o cualquier objeto. \n",
    "\n",
    "A continuación utilizaré una función llamada linspace del módulo numpy, la cual permite generar `num` números equiespaciados en el intervalo entre `start` y `stop` (ver la documentación). Generemos un objeto con 100 números entre 0 y $2 \\pi$."
   ]
  },
  {
   "cell_type": "code",
   "execution_count": 9,
   "id": "ec4b9363",
   "metadata": {},
   "outputs": [],
   "source": [
    "np.linspace?"
   ]
  },
  {
   "cell_type": "code",
   "execution_count": 8,
   "id": "ea1f108f",
   "metadata": {},
   "outputs": [],
   "source": [
    "x = np.linspace(start=0, \n",
    "                stop=2*np.pi, \n",
    "                num=100) # al número pi lo sacamos de numpy.\n",
    "x?"
   ]
  },
  {
   "cell_type": "markdown",
   "id": "8ecf7383",
   "metadata": {},
   "source": [
    "Las variables en las funciones (como start, stop y num en el caso de linspace) tienen un orden el cuál se encuentra detallado en la documentación. Si se respeta el orden de la documentación entonces no resulta necesario explicitar la variable, simplificando drásticamente la notación. Por ejemplo, podríamos haber declarado a x de la siguiente manera:"
   ]
  },
  {
   "cell_type": "code",
   "execution_count": 10,
   "id": "74cbf980",
   "metadata": {},
   "outputs": [
    {
     "name": "stdout",
     "output_type": "stream",
     "text": [
      "[0.         0.01010101 0.02020202 0.03030303 0.04040404 0.05050505\n",
      " 0.06060606 0.07070707 0.08080808 0.09090909 0.1010101  0.11111111\n",
      " 0.12121212 0.13131313 0.14141414 0.15151515 0.16161616 0.17171717\n",
      " 0.18181818 0.19191919 0.2020202  0.21212121 0.22222222 0.23232323\n",
      " 0.24242424 0.25252525 0.26262626 0.27272727 0.28282828 0.29292929\n",
      " 0.3030303  0.31313131 0.32323232 0.33333333 0.34343434 0.35353535\n",
      " 0.36363636 0.37373737 0.38383838 0.39393939 0.4040404  0.41414141\n",
      " 0.42424242 0.43434343 0.44444444 0.45454545 0.46464646 0.47474747\n",
      " 0.48484848 0.49494949 0.50505051 0.51515152 0.52525253 0.53535354\n",
      " 0.54545455 0.55555556 0.56565657 0.57575758 0.58585859 0.5959596\n",
      " 0.60606061 0.61616162 0.62626263 0.63636364 0.64646465 0.65656566\n",
      " 0.66666667 0.67676768 0.68686869 0.6969697  0.70707071 0.71717172\n",
      " 0.72727273 0.73737374 0.74747475 0.75757576 0.76767677 0.77777778\n",
      " 0.78787879 0.7979798  0.80808081 0.81818182 0.82828283 0.83838384\n",
      " 0.84848485 0.85858586 0.86868687 0.87878788 0.88888889 0.8989899\n",
      " 0.90909091 0.91919192 0.92929293 0.93939394 0.94949495 0.95959596\n",
      " 0.96969697 0.97979798 0.98989899 1.        ]\n"
     ]
    }
   ],
   "source": [
    "x = np.linspace(0, 1, 100)\n",
    "print(x) #función que imprime, default en python"
   ]
  },
  {
   "cell_type": "markdown",
   "id": "41f4554f",
   "metadata": {},
   "source": [
    "## Tipos \n",
    "\n",
    "Existen diversos tipos de objetos en python. Entre los más comunes que utilizaremos están los números *enteros (`int`), reales (`float`), los strings (`str`), las listas (`list`), los arrays de numpy (`numpy.ndarray`) y los diccionarios (`dict`)*. Para ver el tipo de un objeto, debemos usar la función `type()` de python."
   ]
  },
  {
   "cell_type": "code",
   "execution_count": 11,
   "id": "1bb24da1",
   "metadata": {},
   "outputs": [
    {
     "data": {
      "text/plain": [
       "numpy.ndarray"
      ]
     },
     "execution_count": 11,
     "metadata": {},
     "output_type": "execute_result"
    }
   ],
   "source": [
    "type(x)"
   ]
  },
  {
   "cell_type": "code",
   "execution_count": 12,
   "id": "24bf62c3",
   "metadata": {},
   "outputs": [
    {
     "data": {
      "text/plain": [
       "numpy.ufunc"
      ]
     },
     "execution_count": 12,
     "metadata": {},
     "output_type": "execute_result"
    }
   ],
   "source": [
    "type(seno)"
   ]
  },
  {
   "cell_type": "markdown",
   "id": "bce7a7cf",
   "metadata": {},
   "source": [
    "### Strings\n",
    "\n",
    "Los strings son colecciones de letras o caracteres. Hay una clase de python que se llama `str`"
   ]
  },
  {
   "cell_type": "code",
   "execution_count": 14,
   "id": "eaf58d3f",
   "metadata": {},
   "outputs": [
    {
     "name": "stdout",
     "output_type": "stream",
     "text": [
      "Hola!Chau!\n",
      "Así también funciona.\n",
      "Tambien se puede poner mucho contenido,\n",
      "formateado en distintas líneas, \n",
      "utilizando las tres comillas\n",
      "de esta manera.\n"
     ]
    }
   ],
   "source": [
    "string_1 = 'Hola!'\n",
    "string_2 = \"Chau!\"\n",
    "\n",
    "print(string_1 + string_2)\n",
    "print(\"Así también funciona.\")\n",
    "print('''Tambien se puede poner mucho contenido,\n",
    "formateado en distintas líneas, \n",
    "utilizando las tres comillas\n",
    "de esta manera.''')"
   ]
  },
  {
   "cell_type": "code",
   "execution_count": 16,
   "id": "f2c27d8c",
   "metadata": {},
   "outputs": [
    {
     "data": {
      "text/plain": [
       "'l'"
      ]
     },
     "execution_count": 16,
     "metadata": {},
     "output_type": "execute_result"
    }
   ],
   "source": [
    "string_1[2]"
   ]
  },
  {
   "cell_type": "markdown",
   "id": "8be10637",
   "metadata": {},
   "source": [
    "Cada tipo tiene sus propios métodos base incorporados. Estos métodos se acceden con el caracter \".\". Por ejemplo los métodos `upper()` y `lower()` en strings permites poner o sacar las mayúsculas:"
   ]
  },
  {
   "cell_type": "code",
   "execution_count": 17,
   "id": "49494fa8",
   "metadata": {},
   "outputs": [
    {
     "data": {
      "text/plain": [
       "'HOLA'"
      ]
     },
     "execution_count": 17,
     "metadata": {},
     "output_type": "execute_result"
    }
   ],
   "source": [
    "\"hola\".upper()"
   ]
  },
  {
   "cell_type": "code",
   "execution_count": 18,
   "id": "2526ed2e",
   "metadata": {},
   "outputs": [
    {
     "data": {
      "text/plain": [
       "'hola'"
      ]
     },
     "execution_count": 18,
     "metadata": {},
     "output_type": "execute_result"
    }
   ],
   "source": [
    "\"HOLa\".lower()"
   ]
  },
  {
   "cell_type": "code",
   "execution_count": 16,
   "id": "0b3de6a6",
   "metadata": {},
   "outputs": [
    {
     "data": {
      "text/plain": [
       "'HOLA!'"
      ]
     },
     "execution_count": 16,
     "metadata": {},
     "output_type": "execute_result"
    }
   ],
   "source": [
    "string_1.upper()"
   ]
  },
  {
   "cell_type": "markdown",
   "id": "5b92bed0",
   "metadata": {},
   "source": [
    "### Listas \n",
    "\n",
    "Las listas son objetos que permiten almacenar varios valores ordenados dentro de una sola variable. Lo interesante de la lista es que la dimensión de la misma puede variar. Podemos pensarlo en cierto sentido como un vector de dimensión variable. Las listas se definen con corchetes. En python SIEMPRE el primer elemento de cualquier lista o array comienza con 0.  Van unos ejemplos de definir una lista y de cómo acceder a sus elementos: "
   ]
  },
  {
   "cell_type": "code",
   "execution_count": 26,
   "id": "ce3b48b3",
   "metadata": {},
   "outputs": [
    {
     "name": "stdout",
     "output_type": "stream",
     "text": [
      "El tipo de a es :<class 'list'>\n",
      "El primer elemento de a es: 1\n",
      "El segundo elemento de a es: 2\n",
      "Los últimos dos elementos de a son: [2, 4]\n"
     ]
    }
   ],
   "source": [
    "a = [1,2,4]\n",
    "\n",
    "print(f'El tipo de a es :{ type(a) }')\n",
    "print(f'El primer elemento de a es: { a[0] }')\n",
    "print(f'El segundo elemento de a es: { a[1] }')\n",
    "print(f'Los últimos dos elementos de a son: { a[1:3] }')"
   ]
  },
  {
   "cell_type": "markdown",
   "id": "6db9ebc7",
   "metadata": {},
   "source": [
    "### Arrays\n",
    "\n",
    "Los arrays de numpy son similares en el sentido que almacenan varios valores ordenados, pero además pueden ser utilizados para realizar las operaciones matemáticas del módulo de numpy (operaciones que en el fondo son realizadas en el lenguaje C, mucho mas eficiente respecto al costo computacional)."
   ]
  },
  {
   "cell_type": "code",
   "execution_count": null,
   "id": "fd72ab54",
   "metadata": {},
   "outputs": [],
   "source": [
    "x"
   ]
  },
  {
   "cell_type": "markdown",
   "id": "b036c793",
   "metadata": {},
   "source": [
    "Por ejemplo, utilicemos estos valores de x para calcular el seno(x). Como ya habíamos llamado a la función seno en la cabecera, ahora tendremos acceso a ella simplemente escribiendo \"seno\"."
   ]
  },
  {
   "cell_type": "code",
   "execution_count": null,
   "id": "d3224271",
   "metadata": {},
   "outputs": [],
   "source": [
    "y = seno(x) #almacenamos los valores del seno(x) en la variable y.\n",
    "#y = np.sin(x) Otra opcion más usual.\n",
    "print(y)"
   ]
  },
  {
   "cell_type": "markdown",
   "id": "28f9c978",
   "metadata": {},
   "source": [
    "### Diccionarios\n",
    "Un Diccionario es una estructura de datos y un tipo de dato en Python con características especiales que nos permite almacenar cualquier tipo de valor como enteros, cadenas, listas e incluso otras funciones. Estos diccionarios nos permiten además identificar cada elemento por una clave (Key). Para definir un diccionario, se encierra el listado de valores entre llaves. Las parejas de clave y valor se separan con comas, y la clave y el valor se separan con dos puntos."
   ]
  },
  {
   "cell_type": "code",
   "execution_count": 33,
   "id": "cb3a85f9",
   "metadata": {},
   "outputs": [
    {
     "name": "stdout",
     "output_type": "stream",
     "text": [
      "Su nombre es Jose Robledo y tiene 31 años.\n"
     ]
    }
   ],
   "source": [
    "b = {'Nombre':'Jose',\n",
    "     'Apellido':'Robledo',\n",
    "     'Edad':31,\n",
    "     'Lista':[1,2,3,4,10]}\n",
    "\n",
    "print(f\"Su nombre es { b['Nombre'] } { b['Apellido'] } y tiene { b['Edad'] } años.\")\n"
   ]
  }
 ],
 "metadata": {
  "interpreter": {
   "hash": "8224f873e57c86ab65480717b16ff633bb8ea1d2368793f8955b692a9e5cb94d"
  },
  "kernelspec": {
   "display_name": "Python 3 (ipykernel)",
   "language": "python",
   "name": "python3"
  },
  "language_info": {
   "codemirror_mode": {
    "name": "ipython",
    "version": 3
   },
   "file_extension": ".py",
   "mimetype": "text/x-python",
   "name": "python",
   "nbconvert_exporter": "python",
   "pygments_lexer": "ipython3",
   "version": "3.7.10"
  }
 },
 "nbformat": 4,
 "nbformat_minor": 5
}
