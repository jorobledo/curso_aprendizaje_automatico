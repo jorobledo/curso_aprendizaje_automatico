{
 "cells": [
  {
   "cell_type": "markdown",
   "metadata": {},
   "source": [
    "<h1 align=\"center\"> k Neighrest Neighbour : k vecinos más cercanos </h1>\n",
    "\n",
    "<h2 align=\"center\"> MEA - 2021 \n",
    "\n",
    "Docente: José I. Robledo </h2>"
   ]
  },
  {
   "cell_type": "code",
   "execution_count": 1,
   "metadata": {},
   "outputs": [],
   "source": [
    "# Cabecera\n",
    "import numpy as np\n",
    "\n",
    "import matplotlib.pyplot as plt\n",
    "from matplotlib.colors import ListedColormap"
   ]
  },
  {
   "cell_type": "markdown",
   "metadata": {},
   "source": [
    "El objetivo de esta jupyter notebook es tomar intuición acerca del funcionamiento del algoritmo de k vecinos más cercanos (kNN). Este algoritmo es un método no paramétrico de clasificación, es decir donde no asumimos ninguna distribución subyacente en los datos. \n",
    "\n",
    "La letra *k* en nombre del método es un número entero que indica la cantidad de vecinos seleccionados. Si $k=1$, entonces el algoritmo se conoce como el del vecino más cercano, el cual sería el caso más simple. Supongamos que tenemos datos en dos dimensiones pertenecientes a dos clases A (rojo) y B (verde) y un dato $x$ que queremos predecir a qué clase pertenece:"
   ]
  },
  {
   "cell_type": "code",
   "execution_count": 2,
   "metadata": {},
   "outputs": [
    {
     "data": {
      "image/png": "[encoded data removed]",
      "text/plain": [
       "<Figure size 432x288 with 1 Axes>"
      ]
     },
     "metadata": {
      "needs_background": "light"
     },
     "output_type": "display_data"
    }
   ],
   "source": [
    "# Clases A y B\n",
    "rng = np.random.RandomState(1)\n",
    "\n",
    "A = np.array([rng.normal(-2, 1, 100),\n",
    "              rng.normal(1, 1, 100)])\n",
    "\n",
    "B = np.array([rng.normal(2, 1, 100),\n",
    "              rng.normal(1, 1, 100)])\n",
    "\n",
    "# Punto a predecir\n",
    "x = (0, 1)\n",
    "\n",
    "plt.scatter(*A, c='red')\n",
    "plt.scatter(*B, c='green')\n",
    "plt.scatter(*x, c='black', s=100, marker=6)\n",
    "plt.show()"
   ]
  },
  {
   "cell_type": "markdown",
   "metadata": {},
   "source": [
    "Los pasos del algoritmo kNN son los siguientes: \n",
    "\n",
    "-  El clasificador basado en el método kNN calcula alguna medida de distancia (normalmente la euclídea, pero puede ser la de Hamming, Manhattan, Minkowski, etc.) para encontrar los k vecinos más cercanos al punto a predecir. \n",
    "\n",
    "- Luego cuenta cuántos corresponden a cada clase.\n",
    "\n",
    "- La clase más votada será la clase predicha por el algoritmo.    "
   ]
  },
  {
   "cell_type": "markdown",
   "metadata": {},
   "source": [
    "Lo \"malo\" de este algoritmo, es que para encontrar los k vecinos más cercanos debe calcular las distancias a todos los puntos del conjunto de datos y luego ordenarlos de menor a mayor distancia para quedarse con los primeros k. Esto, a medida que la base de datos aumenta en $n$ y a su vez en dimensión $p$ se vuelve computacionalmente muy costo y lento. \n",
    "\n",
    "Vamos a hacerlo a mano para ver cómo funciona y luego vamos a ver la implementación de `scikit-learn`.\n",
    "\n",
    "Primero definimos dos funciones, una que calcula la distancia euclídea y otra que encuentra los $k$ vecinos más cercanos a $x$ entre los puntos pertenecientes a los $datos$. Existen miles de maneras de hacer esto. Este ejemplo es de carácter didáctico."
   ]
  },
  {
   "cell_type": "code",
   "execution_count": 3,
   "metadata": {},
   "outputs": [],
   "source": [
    "def distancia_euclidea(x,y):\n",
    "    '''Calcula la distancia euclídea del vector x'''\n",
    "    return np.sqrt(sum([(xi - yi)**2 for xi, yi in zip(x,y)]))\n",
    "\n",
    "def encontrar_k_vecinos(x, datos, k=3):\n",
    "    '''Devuelve el índice de los k vecinos más cercanos'''\n",
    "    distancia = [distancia_euclidea(x, dato) for dato in datos]\n",
    "    primeros_vecinos = np.argsort(distancia)\n",
    "    return primeros_vecinos[:k]\n",
    "        "
   ]
  },
  {
   "cell_type": "markdown",
   "metadata": {},
   "source": [
    "Deberemos juntar los datos de $A$ y $B$ dentro de un único conjunto de datos llamado \"data\". Luego utilizaremos la función `encontrar_k_vecinos()` con $k=10$ para encontrar los 10 puntos más cercanos a $x$. Tener en cuenta que hemos armado la función `encontrar_k_vecinos()` de manera tal que lo que nos devuelve es una array que contiene los índices en la base $data$ de los primeros $k$ vecinos a $x$. "
   ]
  },
  {
   "cell_type": "code",
   "execution_count": 4,
   "metadata": {},
   "outputs": [
    {
     "name": "stdout",
     "output_type": "stream",
     "text": [
      "Wall time: 2 ms\n"
     ]
    },
    {
     "data": {
      "text/plain": [
       "array([106,  67,   0,  47, 143, 104, 111,   6,  43, 152], dtype=int64)"
      ]
     },
     "execution_count": 4,
     "metadata": {},
     "output_type": "execute_result"
    }
   ],
   "source": [
    "%%time\n",
    "data = np.concatenate([A,B],axis=1).T\n",
    "indice_de_k_vecinos = encontrar_k_vecinos(x, data, k=10)\n",
    "indice_de_k_vecinos"
   ]
  },
  {
   "cell_type": "markdown",
   "metadata": {},
   "source": [
    "Por lo tanto, para obtener los puntos en el gráfico, deberemos obtener las coordenadas que corresponde a cada índice de la siguiente manera: "
   ]
  },
  {
   "cell_type": "code",
   "execution_count": 5,
   "metadata": {},
   "outputs": [
    {
     "data": {
      "text/plain": [
       "array([[ 0.34927873, -0.48018318, -0.37565464,  0.10025514,  0.60337958,\n",
       "         0.66804833,  0.65732421, -0.25518824, -0.3075454 , -0.793085  ],\n",
       "       [ 1.01335268,  1.2135339 ,  0.55287144,  1.61838026,  1.32352735,\n",
       "         0.72090228,  1.30526704,  1.74055645,  1.75041164,  0.80494266]])"
      ]
     },
     "execution_count": 5,
     "metadata": {},
     "output_type": "execute_result"
    }
   ],
   "source": [
    "k_vecinos = np.array([data[i] for i in indice_de_k_vecinos]).T\n",
    "k_vecinos"
   ]
  },
  {
   "cell_type": "markdown",
   "metadata": {},
   "source": [
    "Estos los podemos graficar para ver que efectivamente encontramos los 10 puntos más cercanos."
   ]
  },
  {
   "cell_type": "code",
   "execution_count": 6,
   "metadata": {},
   "outputs": [
    {
     "data": {
      "image/png": "[encoded data removed]",
      "text/plain": [
       "<Figure size 432x288 with 1 Axes>"
      ]
     },
     "metadata": {
      "needs_background": "light"
     },
     "output_type": "display_data"
    }
   ],
   "source": [
    "# Clases A y B\n",
    "rng = np.random.RandomState(1)\n",
    "\n",
    "A = np.array([rng.normal(-2, 1, 100),\n",
    "              rng.normal(1, 1, 100)])\n",
    "\n",
    "B = np.array([rng.normal(2, 1, 100),\n",
    "              rng.normal(1, 1, 100)])\n",
    "\n",
    "plt.scatter(*A, c='red')\n",
    "plt.scatter(*B, c='green')\n",
    "plt.scatter(*x, c='black', s=100, marker=6)\n",
    "\n",
    "# Graficamos los k vecinos más cercanos\n",
    "plt.scatter(*k_vecinos, c='blue', alpha=0.4)\n",
    "\n",
    "plt.show()"
   ]
  },
  {
   "cell_type": "markdown",
   "metadata": {},
   "source": [
    "Ahora, podemos armar una función para predecir la etiqueta del punto $x$ en cuestión. Para esto, debe contar entre los $k$ vecinos más cercanos, cuántos eran A y cuántos eran B y luego votar la etiqueta mayoritaria. Si la etiqueta predicha es 'grupo A' podemos pedirle que nos devuelva un 0 y si la etiqueta es 'grupo B' entonces que devuelva 1 :"
   ]
  },
  {
   "cell_type": "code",
   "execution_count": 7,
   "metadata": {},
   "outputs": [],
   "source": [
    "def predecir_etiqueta(indices):\n",
    "    '''Realiza la votación de clases'''\n",
    "    n_clase_A = 0\n",
    "    n_clase_B = 0\n",
    "    for i in indices:\n",
    "        if i <= 100:\n",
    "            n_clase_A += 1\n",
    "        else:\n",
    "            n_clase_B += 1\n",
    "    \n",
    "    if n_clase_A >= n_clase_B:\n",
    "        return 0\n",
    "    else:\n",
    "        return 1       "
   ]
  },
  {
   "cell_type": "markdown",
   "metadata": {},
   "source": [
    "Como venimos haciendo en los ejercicios anteriores, podemos armar una grilla de puntos y predecir en cada punto la clasificación para poder visualizar la frontera de clasificación:"
   ]
  },
  {
   "cell_type": "code",
   "execution_count": 8,
   "metadata": {},
   "outputs": [
    {
     "name": "stdout",
     "output_type": "stream",
     "text": [
      "Wall time: 15.2 s\n"
     ]
    }
   ],
   "source": [
    "%%time\n",
    "x_min, x_max = data[:, 0].min() - 1, data[:, 0].max() + 1\n",
    "y_min, y_max = data[:, 1].min() - 1, data[:, 1].max() + 1\n",
    "h = 0.1\n",
    "xx, yy = np.meshgrid(np.arange(x_min, x_max, h), np.arange(y_min, y_max, h))\n",
    "Z = []\n",
    "for xi in np.c_[xx.ravel(), yy.ravel()]:\n",
    "    k_vecinos = encontrar_k_vecinos(xi, data, k=5)\n",
    "    prediccion = predecir_etiqueta(k_vecinos)\n",
    "    Z.append(prediccion)"
   ]
  },
  {
   "cell_type": "code",
   "execution_count": 9,
   "metadata": {},
   "outputs": [
    {
     "data": {
      "image/png": "[encoded data removed]",
      "text/plain": [
       "<Figure size 432x288 with 1 Axes>"
      ]
     },
     "metadata": {
      "needs_background": "light"
     },
     "output_type": "display_data"
    }
   ],
   "source": [
    "cmap = ListedColormap([\"red\",\"green\"])\n",
    "Z = np.array(Z).reshape(xx.shape)\n",
    "plt.contourf(xx, yy, Z, cmap=cmap, alpha=0.2)\n",
    "plt.scatter(*A, c='red')\n",
    "plt.scatter(*B, c='green')\n",
    "plt.show()"
   ]
  },
  {
   "cell_type": "markdown",
   "metadata": {},
   "source": [
    "## Implementación con `scikit-learn`"
   ]
  },
  {
   "cell_type": "markdown",
   "metadata": {},
   "source": [
    "Ahora que entendemos mejor el algoritmo del clasificador de kNN, usemos la implementación de sklearn que se encuentra optimizada."
   ]
  },
  {
   "cell_type": "code",
   "execution_count": 10,
   "metadata": {},
   "outputs": [
    {
     "data": {
      "image/png": "[encoded data removed]",
      "text/plain": [
       "<Figure size 432x288 with 1 Axes>"
      ]
     },
     "metadata": {
      "needs_background": "light"
     },
     "output_type": "display_data"
    },
    {
     "name": "stdout",
     "output_type": "stream",
     "text": [
      "Wall time: 2.93 s\n"
     ]
    }
   ],
   "source": [
    "%%time\n",
    "from sklearn.neighbors import KNeighborsClassifier\n",
    "\n",
    "neigh = KNeighborsClassifier(n_neighbors=5, \n",
    "                             weights='uniform',\n",
    "                             algorithm='brute'\n",
    "                             )\n",
    "etiquetas = np.array([0]*100+[1]*100)\n",
    "neigh.fit(data, etiquetas)\n",
    "Z = neigh.predict(np.c_[xx.ravel(), yy.ravel()])\n",
    "cmap = ListedColormap([\"red\",\"green\"])\n",
    "Z = Z.reshape(xx.shape)\n",
    "plt.contourf(xx, yy, Z, cmap=cmap, alpha=0.2)\n",
    "plt.scatter(*A, c='red')\n",
    "plt.scatter(*B, c='green')\n",
    "plt.show()"
   ]
  },
  {
   "cell_type": "markdown",
   "metadata": {},
   "source": [
    "Como podemos ver, obtenemos lo mismo con un factor de al menos 15 veces de ganancia en tiempo de ejecución. Moraleja: Siempre que puedan, usen scikit learn antes de programar sus propias rutinas. "
   ]
  },
  {
   "cell_type": "markdown",
   "metadata": {},
   "source": [
    "## Validación cruzada"
   ]
  },
  {
   "cell_type": "markdown",
   "metadata": {},
   "source": [
    "En el ejemplo anterior, hemos fijado el valor de k arbitrariamente. El procedimiento habitual para definir el valor de $k$ en un clasificador kNN es realizar una validación cruzada para encontrar el $k$ óptimo. La validación cruzada puede ser del tipo $k'$-fold (tener en cuenta el nombre validación cruzada $k$-fold es usado, pero esta $k'$ es distinta a la $k$ de kNN), donde se divide $k'$ veces el conjunto de datos en dos: una parte de entrenamiento y otra de prueba y se evalua la exactitud del clasificador en cada repetición. Luego se calcula la exactitud global al promediar la exactitud de cada una de las $k'$ repeticiones (folds). Esto se realiza para distintos valores de vecinos $k$ y se elige el valor de $k$ que maximiza la exactitud promedio del clasificador. Vamos a realizar este procedimiento a continuación: "
   ]
  },
  {
   "cell_type": "code",
   "execution_count": 11,
   "metadata": {},
   "outputs": [
    {
     "data": {
      "text/plain": [
       "(200, 2)"
      ]
     },
     "execution_count": 11,
     "metadata": {},
     "output_type": "execute_result"
    }
   ],
   "source": [
    "data.shape"
   ]
  },
  {
   "cell_type": "code",
   "execution_count": 12,
   "metadata": {},
   "outputs": [],
   "source": [
    "from sklearn.model_selection import train_test_split\n",
    "from sklearn.metrics import accuracy_score"
   ]
  },
  {
   "cell_type": "code",
   "execution_count": 13,
   "metadata": {},
   "outputs": [
    {
     "name": "stdout",
     "output_type": "stream",
     "text": [
      "Wall time: 371 ms\n"
     ]
    }
   ],
   "source": [
    "%%time\n",
    "num_folds = 5\n",
    "valores_de_k = np.arange(1,16,1)\n",
    "\n",
    "avg_acc_vals = []\n",
    "for k in valores_de_k:\n",
    "    fold_accuracies = []\n",
    "    for i in range(num_folds):\n",
    "        X_train, X_test, y_train, y_test = train_test_split(data, etiquetas, test_size=0.2, random_state=42)\n",
    "        \n",
    "        neigh = KNeighborsClassifier(n_neighbors=k, \n",
    "                             weights='uniform',\n",
    "                             algorithm='brute'\n",
    "                             )\n",
    "        \n",
    "        neigh.fit(X_train, y_train)\n",
    "        \n",
    "        y_pred = neigh.predict(X_test)\n",
    "        \n",
    "        acc = accuracy_score(y_test, y_pred)\n",
    "        \n",
    "        fold_accuracies.append(acc)\n",
    "\n",
    "    mean_acc = np.mean(fold_accuracies)\n",
    "\n",
    "    avg_acc_vals.append((k, mean_acc))        \n",
    "        "
   ]
  },
  {
   "cell_type": "code",
   "execution_count": 14,
   "metadata": {},
   "outputs": [
    {
     "data": {
      "image/png": "[encoded data removed]",
      "text/plain": [
       "<Figure size 432x288 with 1 Axes>"
      ]
     },
     "metadata": {
      "needs_background": "light"
     },
     "output_type": "display_data"
    }
   ],
   "source": [
    "plt.scatter(*np.array(avg_acc_vals).T)\n",
    "plt.xlabel('Número de vecinos')\n",
    "plt.ylabel('Accuracy')\n",
    "plt.show()"
   ]
  },
  {
   "cell_type": "markdown",
   "metadata": {},
   "source": [
    "Vemos que hay ciertos valores de números de vecinos convenientes, ya que aumentan la exactitud del clasificador en la etapa de validación cruzada. Teniendo esto en cuenta, podemos quedarnos con $k=10$, como muestro a continuación. Mediante validación cruzada hemos \"tuneado\" u optimizado el hiperparámetro del método kNN."
   ]
  },
  {
   "cell_type": "code",
   "execution_count": 15,
   "metadata": {},
   "outputs": [
    {
     "data": {
      "image/png": "[encoded data removed]",
      "text/plain": [
       "<Figure size 432x288 with 1 Axes>"
      ]
     },
     "metadata": {
      "needs_background": "light"
     },
     "output_type": "display_data"
    }
   ],
   "source": [
    "from sklearn.neighbors import KNeighborsClassifier\n",
    "\n",
    "k = 10\n",
    "neigh = KNeighborsClassifier(n_neighbors=k, \n",
    "                             weights='uniform',\n",
    "                             algorithm='brute'\n",
    "                             )\n",
    "etiquetas = np.array([0]*100+[1]*100)\n",
    "neigh.fit(data, etiquetas)\n",
    "Z = neigh.predict(np.c_[xx.ravel(), yy.ravel()])\n",
    "cmap = ListedColormap([\"red\",\"green\"])\n",
    "Z = Z.reshape(xx.shape)\n",
    "plt.contourf(xx, yy, Z, cmap=cmap, alpha=0.2)\n",
    "plt.scatter(*A, c='red')\n",
    "plt.scatter(*B, c='green')\n",
    "plt.show()"
   ]
  },
  {
   "cell_type": "markdown",
   "metadata": {},
   "source": [
    "# Bibliografía y recursos útiles:\n",
    "\n",
    "- [Documentación KNeighborsClassifier en sklearn](https://scikit-learn.org/stable/modules/generated/sklearn.neighbors.KNeighborsClassifier.html#sklearn.neighbors.KNeighborsClassifier)\n",
    "\n",
    "- [Gráfico de fronteras de decisión en kNN (sklearn)](https://scikit-learn.org/stable/auto_examples/neighbors/plot_classification.html#sphx-glr-auto-examples-neighbors-plot-classification-py)"
   ]
  }
 ],
 "metadata": {
  "interpreter": {
   "hash": "8224f873e57c86ab65480717b16ff633bb8ea1d2368793f8955b692a9e5cb94d"
  },
  "kernelspec": {
   "display_name": "Python 3.7.10 64-bit ('MEA': conda)",
   "name": "python3"
  },
  "language_info": {
   "codemirror_mode": {
    "name": "ipython",
    "version": 3
   },
   "file_extension": ".py",
   "mimetype": "text/x-python",
   "name": "python",
   "nbconvert_exporter": "python",
   "pygments_lexer": "ipython3",
   "version": "3.7.10"
  }
 },
 "nbformat": 4,
 "nbformat_minor": 2
}
