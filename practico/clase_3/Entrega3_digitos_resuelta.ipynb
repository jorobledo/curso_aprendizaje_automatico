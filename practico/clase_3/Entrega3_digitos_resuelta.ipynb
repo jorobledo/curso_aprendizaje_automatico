{
 "cells": [
  {
   "cell_type": "markdown",
   "metadata": {},
   "source": [
    "# Entrega 3 : kNN y KDE sobre la base de datos MNIST"
   ]
  },
  {
   "cell_type": "code",
   "execution_count": 34,
   "metadata": {},
   "outputs": [],
   "source": [
    "import numpy as np\n",
    "\n",
    "import matplotlib.pyplot as plt\n",
    "from matplotlib.colors import ListedColormap\n",
    "\n",
    "from sklearn.datasets import load_digits\n",
    "from sklearn.neighbors import KernelDensity\n",
    "from sklearn.decomposition import PCA\n",
    "from sklearn.model_selection import GridSearchCV\n",
    "from sklearn.neighbors import KNeighborsClassifier"
   ]
  },
  {
   "cell_type": "markdown",
   "metadata": {},
   "source": [
    "En este trabajo práctico, vamos a utilizar una parte de la famosa base de datos de dígitos escritos a mano del MNIST. Esta se encuentra disponible dentro de sklearn y la importaremos utilizando `load_digits`:"
   ]
  },
  {
   "cell_type": "code",
   "execution_count": 2,
   "metadata": {},
   "outputs": [],
   "source": [
    "digitos = load_digits()"
   ]
  },
  {
   "cell_type": "code",
   "execution_count": 3,
   "metadata": {},
   "outputs": [
    {
     "data": {
      "text/plain": [
       "(1797, 64)"
      ]
     },
     "execution_count": 3,
     "metadata": {},
     "output_type": "execute_result"
    }
   ],
   "source": [
    "digitos.data.shape"
   ]
  },
  {
   "cell_type": "markdown",
   "metadata": {},
   "source": [
    "Observemos que la base de datos cuenta con 1797 dígitos y 64 variables. Las variables son los valores de cada pixel de la imagen de dimensión (8x8). Es decir, que para poder observar la imagen, debemos reacomodar los pixeles a un array (8x8). A continuación les paso una función que hace esto, utilizando el método `reshape` de numpy."
   ]
  },
  {
   "cell_type": "code",
   "execution_count": 182,
   "metadata": {},
   "outputs": [
    {
     "data": {
      "image/png": "[encoded data removed]",
      "text/plain": [
       "<Figure size 432x288 with 1 Axes>"
      ]
     },
     "metadata": {
      "needs_background": "light"
     },
     "output_type": "display_data"
    }
   ],
   "source": [
    "def ver_imagen(caso, data, target):\n",
    "    plt.title(target[caso])\n",
    "    plt.imshow(data[caso].reshape((8,8)))\n",
    "\n",
    "ver_imagen(20, digitos.data, digitos.target)"
   ]
  },
  {
   "cell_type": "markdown",
   "metadata": {},
   "source": [
    "En el caso anterior, estamos viendo la imagen número 20 de los datos. Tengamos en cuenta que el número 20 es el índice de esta imagen en la base de datos, no el valor del dígito escrito a mano. "
   ]
  },
  {
   "cell_type": "markdown",
   "metadata": {},
   "source": [
    "El conjunto de datos cuenta con números entre 0 y 9, como podemos ver a continuación:"
   ]
  },
  {
   "cell_type": "code",
   "execution_count": 5,
   "metadata": {},
   "outputs": [
    {
     "data": {
      "text/plain": [
       "array([0, 1, 2, 3, 4, 5, 6, 7, 8, 9])"
      ]
     },
     "execution_count": 5,
     "metadata": {},
     "output_type": "execute_result"
    }
   ],
   "source": [
    "digitos.target_names"
   ]
  },
  {
   "cell_type": "markdown",
   "metadata": {},
   "source": [
    "Y las etiquetas de cada una de las 1979 imágenes se puede encontrar de la siguiente manera:"
   ]
  },
  {
   "cell_type": "code",
   "execution_count": 101,
   "metadata": {},
   "outputs": [
    {
     "data": {
      "text/plain": [
       "array([0, 1, 2, ..., 8, 9, 8])"
      ]
     },
     "execution_count": 101,
     "metadata": {},
     "output_type": "execute_result"
    }
   ],
   "source": [
    "digitos.target"
   ]
  },
  {
   "cell_type": "markdown",
   "metadata": {},
   "source": [
    "## 1.) a.) Realice un Análisis de Componentes Principales, para reducir la dimensión del problema de 64 a 15 variables (quedarse con las 2 primeras componentes principales). Del total de variabilidad del conjunto de datos, ¿Cuánta variabilidad está siendo contemplada en este plano?\n"
   ]
  },
  {
   "cell_type": "code",
   "execution_count": null,
   "metadata": {},
   "outputs": [],
   "source": []
  },
  {
   "cell_type": "markdown",
   "metadata": {},
   "source": [
    "## 1.) b.) Proyecte los 1797 datos sobre las dos primeras componentes principales. Coloree a cada punto según el valor de dígito que corresponde."
   ]
  },
  {
   "cell_type": "code",
   "execution_count": null,
   "metadata": {},
   "outputs": [],
   "source": []
  },
  {
   "cell_type": "markdown",
   "metadata": {},
   "source": [
    "## 2.) a.) Utilice el método de k-vecinos más cercanos para armar un clasificador que pueda predecir el valor de un nuevo dígito escrito a mano (no utilizado para entrenar) según su valor en las primeras dos componentes principales (Recuerden como armar la grilla de puntos en el plano y cómo predecir en cada punto de la grilla). Para encontrar el valor óptimo de $k$, utilice validación cruzada.\n",
    "\n",
    "Esto no lo vimos en clase, pero para no usar el algoritmo a mano que hicimos, existe también la validación cruzada armada en sklearn. El método se llama [`GridSearchCV()`](https://scikit-learn.org/stable/modules/generated/sklearn.model_selection.GridSearchCV.html). Si se animan, lean la documentación e implementenlo. Sino, utilicen el que hemos hecho en clase o pregunten que les cuento cómo hacer. "
   ]
  },
  {
   "cell_type": "code",
   "execution_count": null,
   "metadata": {},
   "outputs": [],
   "source": []
  },
  {
   "cell_type": "markdown",
   "metadata": {},
   "source": [
    "## 3.) Consideremos ahora las primeras 2 componentes principales (contamos con 2 variables). Utilice el método `KernelDensity()` de sklearn para encontrar la estimación de densidad en el espacio de las 2 componentes. Usar un kernel gaussiano y encontrar el valor del ancho de banda óptimo mediante validación cruzada (tomar valores de ancho de banda entre 0.1 y 10).  "
   ]
  },
  {
   "cell_type": "code",
   "execution_count": null,
   "metadata": {},
   "outputs": [],
   "source": []
  },
  {
   "cell_type": "markdown",
   "metadata": {},
   "source": [
    "## 3.) b.) la clase `KernelDensity()` de sklearn contiene el método `sample()` que sirve para muestrear la densidad de probabilidad estimada. Utilice este método para obtener una muestra de 10 puntos nuevos de la densidad estimada. Luego, utilice el clasificador kNN entrenado anteriormente para clasificar estos nuevos 10 puntos."
   ]
  },
  {
   "cell_type": "code",
   "execution_count": null,
   "metadata": {},
   "outputs": [],
   "source": []
  },
  {
   "cell_type": "markdown",
   "metadata": {},
   "source": [
    "## 3.)c.) Una vez muestreados y clasificadors los nuevos puntos, utilizar el método `inverse_transform()` de `PCA` para volver los puntos muestreados al espacio de los pixeles. Graficar las nuevas imágenes generadas (puede usar la función ver_imagen)! "
   ]
  },
  {
   "cell_type": "code",
   "execution_count": null,
   "metadata": {},
   "outputs": [],
   "source": []
  },
  {
   "cell_type": "markdown",
   "metadata": {},
   "source": [
    "En resumen, lo que hemos hecho hasta es:\n",
    "\n",
    "1.) Reducir la dimensión del problema utilizando PCA.\n",
    "\n",
    "2.) Entrenar un clasificador en el espacio de las primeras dos componentes principales a partir de un conjunto de entrenamiento. \n",
    "\n",
    "3.) Utilizar el método no paramétrico KDE para estimar la distribución de probabilidad de los dígitos en el espacio de las primeras componentes principales. \n",
    "\n",
    "4.) Muestrear la distribución generada y clasificar los puntos muestrados utilizando el clasificador entrenado. \n",
    "\n",
    "5.) Reproyectar los datos nuevos sobre las variables originales (los pixeles) y graficar.\n",
    "\n",
    "Lo que hemos armado es un modelo GENERATRIZ o GENERATIVO. Esto se llama así ya que sirve para generar nuevas imágenes a partir del conocimiento de las imágenes de entrenamiento.\n",
    "\n",
    "La calidad de las imágenes obtenidas es pobre, ya que estamos utilizando únicamente las primeras dos componentes principales para muestrear en el KDE y reconstruir la imágen. Esto se debe a que hemos reducido fuertemente la dimensión del problema. Esta parte que sigue no será evaluada y no es necesaria, pero recomiendo que prueben quedarse con las primeras 20 componentes principales (va a haber 64 componentes principales, tantas como variables), estimen la densidad con KDE utilizando las 20 variables y muestreen la distribución de probabilidad obtenida. Verán que la reconstrucción al realizar la transformación inversa del PCA será mucho más fiel a los datos entrenados (nos estamos quedando con mayor variabilidad de los datos, por lo tanto mayor información). "
   ]
  }
 ],
 "metadata": {
  "interpreter": {
   "hash": "8224f873e57c86ab65480717b16ff633bb8ea1d2368793f8955b692a9e5cb94d"
  },
  "kernelspec": {
   "display_name": "Python 3.7.10 64-bit ('MEA': conda)",
   "name": "python3"
  },
  "language_info": {
   "codemirror_mode": {
    "name": "ipython",
    "version": 3
   },
   "file_extension": ".py",
   "mimetype": "text/x-python",
   "name": "python",
   "nbconvert_exporter": "python",
   "pygments_lexer": "ipython3",
   "version": "3.7.10"
  },
  "orig_nbformat": 4
 },
 "nbformat": 4,
 "nbformat_minor": 2
}
